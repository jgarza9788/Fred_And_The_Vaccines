{
 "cells": [
  {
   "cell_type": "markdown",
   "metadata": {},
   "source": [
    "# Fred And The Vaccines\n",
    "\n",
    "**Author:** Justin Garza\n",
    "\n",
    "**Date:** See below  \n",
    "  \n",
    "**Description:**  \n",
    "This notebook explores the vaccines impact on St Louis \n",
    "\n",
    "**Content Warning:**    \n",
    "If you find discussions of death (or injury) or its underlying factors distressing, please proceed with caution or consider whether this content is right for you.  "
   ]
  },
  {
   "cell_type": "code",
   "execution_count": 21,
   "metadata": {},
   "outputs": [
    {
     "data": {
      "text/markdown": [
       "**Date:** 2025-02-11"
      ],
      "text/plain": [
       "<IPython.core.display.Markdown object>"
      ]
     },
     "metadata": {},
     "output_type": "display_data"
    },
    {
     "data": {
      "text/markdown": [
       "**version:** 20250211.2040"
      ],
      "text/plain": [
       "<IPython.core.display.Markdown object>"
      ]
     },
     "metadata": {},
     "output_type": "display_data"
    }
   ],
   "source": [
    "from datetime import datetime\n",
    "from IPython.display import display\n",
    "from IPython.display import Markdown as MD\n",
    "current_date = datetime.now().strftime('%Y-%m-%d')\n",
    "version = datetime.now().strftime('%Y%m%d.%H%M')\n",
    "display(MD(f\"**Date:** {current_date}\"))\n",
    "display(MD(f\"**version:** {version}\"))"
   ]
  },
  {
   "cell_type": "markdown",
   "metadata": {},
   "source": [
    "## Setup\n",
    "In this section, we prepare the notebook by importing necessary libraries, configuring settings, and setting up directories for data and outputs. The setup ensures the environment is ready for data analysis and visualization."
   ]
  },
  {
   "cell_type": "code",
   "execution_count": 22,
   "metadata": {},
   "outputs": [
    {
     "name": "stdout",
     "output_type": "stream",
     "text": [
      "DIR='c:\\\\Users\\\\JGarza\\\\GitHub\\\\Fred_And_The_Vaccines'\n"
     ]
    }
   ],
   "source": [
    "# this code to will import all the things i need for this notebook\n",
    "\n",
    "import os\n",
    "import re\n",
    "import math\n",
    "\n",
    "import numpy as np\n",
    "import pandas as pd\n",
    "\n",
    "# for the notebook rendering \n",
    "from IPython.display import display, HTML\n",
    "from IPython.display import Markdown as MD\n",
    "\n",
    "# Graphs and Charts\n",
    "import seaborn as sns\n",
    "import plotly.express as px\n",
    "\n",
    "# pandas Settings/Options\n",
    "pd.set_option(\"display.max_rows\", None) \n",
    "pd.set_option(\"display.max_columns\", None)\n",
    "pd.set_option('display.width', 9000)\n",
    "pd.set_option('max_colwidth', 400)\n",
    "pd.set_option('display.float_format', '{:.3f}'.format)\n",
    "\n",
    "# colormap \n",
    "heatmapCM = sns.color_palette('Spectral_r', as_cmap=True)\n",
    "\n",
    "\n",
    "## directories \n",
    "DIR = os.getcwd()\n",
    "print(f'{DIR=}')\n",
    "\n",
    "DataDIR = os.path.join(DIR,'data')\n",
    "OutDIR = os.path.join(DIR,'docs')\n",
    "\n",
    "if not os.path.exists(DataDIR):\n",
    "    print('***DATA FOLDER IS MISSING***')\n",
    "\n",
    "if not os.path.exists(OutDIR):\n",
    "    os.makedirs(OutDIR)"
   ]
  },
  {
   "cell_type": "markdown",
   "metadata": {},
   "source": [
    "## Fred of St Louis - Civilian Labor Force - With a Disability Data \n",
    "**F**ederal **R**eserve **E**conomic **D**ata \n",
    "\n",
    "### Getting the Data\n",
    "**Source** \n",
    "[Federal Reserve Bank of St Louis](https://fred.stlouisfed.org/series/LNU01074597)\n",
    "\n",
    "1. Go to [Civilian Labor Force - With a Disability, 16 Years and over](https://fred.stlouisfed.org/series/LNU01074597)\n",
    "2. click download \n",
    "3. download as CSV\n",
    "\n"
   ]
  },
  {
   "cell_type": "code",
   "execution_count": 23,
   "metadata": {},
   "outputs": [],
   "source": [
    "# import Vaccine Data \n",
    "df = pd.read_csv(os.path.join(DataDIR,'LNU01074597.csv'))\n",
    "\n",
    "df = df.rename(columns={'observation_date':'date'})\n",
    "df = df.rename(columns={'LNU01074597':'count'})\n",
    "\n",
    "# display(df.head(5))"
   ]
  },
  {
   "cell_type": "code",
   "execution_count": 24,
   "metadata": {},
   "outputs": [
    {
     "data": {
      "text/markdown": [
       "### Civilian Labor Force - With a Disability, 16 Years and over"
      ],
      "text/plain": [
       "<IPython.core.display.Markdown object>"
      ]
     },
     "metadata": {},
     "output_type": "display_data"
    },
    {
     "data": {
      "text/html": [
       "<h4><span style=\"color: grey;\"><b>Grey Lines</b></span> are the max and min values from 2008-06-01 and 2020-01-01</h4>"
      ],
      "text/plain": [
       "<IPython.core.display.HTML object>"
      ]
     },
     "metadata": {},
     "output_type": "display_data"
    },
    {
     "data": {
      "text/html": [
       "<h4><span style=\"color: green;\"><b>Green Line</b></span> represents the first time COVID-19 was detected in St. Louis</h4>"
      ],
      "text/plain": [
       "<IPython.core.display.HTML object>"
      ]
     },
     "metadata": {},
     "output_type": "display_data"
    },
    {
     "data": {
      "text/html": [
       "<p style=\"text-indent: 40px;\"><a href=\"https://www.stlpr.org/health-science-environment/2020-03-08/first-missouri-coronavirus-case-is-in-st-louis-county\">First Missouri Coronavirus Case Is In St. Louis County</p>"
      ],
      "text/plain": [
       "<IPython.core.display.HTML object>"
      ]
     },
     "metadata": {},
     "output_type": "display_data"
    },
    {
     "data": {
      "text/html": [
       "<h4><span style=\"color: red;\"><b>Red Circle</b></span> marks an event that caused disabilities to increase</h4>"
      ],
      "text/plain": [
       "<IPython.core.display.HTML object>"
      ]
     },
     "metadata": {},
     "output_type": "display_data"
    },
    {
     "data": {
      "application/vnd.plotly.v1+json": {
       "config": {
        "plotlyServerURL": "https://plot.ly"
       },
       "data": [
        {
         "hovertemplate": "date=%{x}<br>count=%{y}<extra></extra>",
         "legendgroup": "",
         "line": {
          "color": "#636efa",
          "dash": "solid"
         },
         "marker": {
          "symbol": "circle"
         },
         "mode": "lines",
         "name": "",
         "orientation": "v",
         "showlegend": false,
         "type": "scatter",
         "x": [
          "2008-06-01",
          "2008-07-01",
          "2008-08-01",
          "2008-09-01",
          "2008-10-01",
          "2008-11-01",
          "2008-12-01",
          "2009-01-01",
          "2009-02-01",
          "2009-03-01",
          "2009-04-01",
          "2009-05-01",
          "2009-06-01",
          "2009-07-01",
          "2009-08-01",
          "2009-09-01",
          "2009-10-01",
          "2009-11-01",
          "2009-12-01",
          "2010-01-01",
          "2010-02-01",
          "2010-03-01",
          "2010-04-01",
          "2010-05-01",
          "2010-06-01",
          "2010-07-01",
          "2010-08-01",
          "2010-09-01",
          "2010-10-01",
          "2010-11-01",
          "2010-12-01",
          "2011-01-01",
          "2011-02-01",
          "2011-03-01",
          "2011-04-01",
          "2011-05-01",
          "2011-06-01",
          "2011-07-01",
          "2011-08-01",
          "2011-09-01",
          "2011-10-01",
          "2011-11-01",
          "2011-12-01",
          "2012-01-01",
          "2012-02-01",
          "2012-03-01",
          "2012-04-01",
          "2012-05-01",
          "2012-06-01",
          "2012-07-01",
          "2012-08-01",
          "2012-09-01",
          "2012-10-01",
          "2012-11-01",
          "2012-12-01",
          "2013-01-01",
          "2013-02-01",
          "2013-03-01",
          "2013-04-01",
          "2013-05-01",
          "2013-06-01",
          "2013-07-01",
          "2013-08-01",
          "2013-09-01",
          "2013-10-01",
          "2013-11-01",
          "2013-12-01",
          "2014-01-01",
          "2014-02-01",
          "2014-03-01",
          "2014-04-01",
          "2014-05-01",
          "2014-06-01",
          "2014-07-01",
          "2014-08-01",
          "2014-09-01",
          "2014-10-01",
          "2014-11-01",
          "2014-12-01",
          "2015-01-01",
          "2015-02-01",
          "2015-03-01",
          "2015-04-01",
          "2015-05-01",
          "2015-06-01",
          "2015-07-01",
          "2015-08-01",
          "2015-09-01",
          "2015-10-01",
          "2015-11-01",
          "2015-12-01",
          "2016-01-01",
          "2016-02-01",
          "2016-03-01",
          "2016-04-01",
          "2016-05-01",
          "2016-06-01",
          "2016-07-01",
          "2016-08-01",
          "2016-09-01",
          "2016-10-01",
          "2016-11-01",
          "2016-12-01",
          "2017-01-01",
          "2017-02-01",
          "2017-03-01",
          "2017-04-01",
          "2017-05-01",
          "2017-06-01",
          "2017-07-01",
          "2017-08-01",
          "2017-09-01",
          "2017-10-01",
          "2017-11-01",
          "2017-12-01",
          "2018-01-01",
          "2018-02-01",
          "2018-03-01",
          "2018-04-01",
          "2018-05-01",
          "2018-06-01",
          "2018-07-01",
          "2018-08-01",
          "2018-09-01",
          "2018-10-01",
          "2018-11-01",
          "2018-12-01",
          "2019-01-01",
          "2019-02-01",
          "2019-03-01",
          "2019-04-01",
          "2019-05-01",
          "2019-06-01",
          "2019-07-01",
          "2019-08-01",
          "2019-09-01",
          "2019-10-01",
          "2019-11-01",
          "2019-12-01",
          "2020-01-01",
          "2020-02-01",
          "2020-03-01",
          "2020-04-01",
          "2020-05-01",
          "2020-06-01",
          "2020-07-01",
          "2020-08-01",
          "2020-09-01",
          "2020-10-01",
          "2020-11-01",
          "2020-12-01",
          "2021-01-01",
          "2021-02-01",
          "2021-03-01",
          "2021-04-01",
          "2021-05-01",
          "2021-06-01",
          "2021-07-01",
          "2021-08-01",
          "2021-09-01",
          "2021-10-01",
          "2021-11-01",
          "2021-12-01",
          "2022-01-01",
          "2022-02-01",
          "2022-03-01",
          "2022-04-01",
          "2022-05-01",
          "2022-06-01",
          "2022-07-01",
          "2022-08-01",
          "2022-09-01",
          "2022-10-01",
          "2022-11-01",
          "2022-12-01",
          "2023-01-01",
          "2023-02-01",
          "2023-03-01",
          "2023-04-01",
          "2023-05-01",
          "2023-06-01",
          "2023-07-01",
          "2023-08-01",
          "2023-09-01",
          "2023-10-01",
          "2023-11-01",
          "2023-12-01",
          "2024-01-01",
          "2024-02-01",
          "2024-03-01",
          "2024-04-01",
          "2024-05-01",
          "2024-06-01",
          "2024-07-01",
          "2024-08-01",
          "2024-09-01",
          "2024-10-01",
          "2024-11-01",
          "2024-12-01",
          "2025-01-01"
         ],
         "xaxis": "x",
         "y": [
          5931,
          6376,
          6413,
          6543,
          6284,
          6222,
          6197,
          6184,
          6141,
          6114,
          6179,
          6189,
          6172,
          6217,
          5989,
          5923,
          5839,
          5802,
          5847,
          5877,
          5887,
          6054,
          5897,
          5930,
          5713,
          5603,
          5738,
          5698,
          5682,
          5784,
          5679,
          5406,
          5592,
          5794,
          5699,
          5828,
          5903,
          5773,
          5774,
          5770,
          5802,
          5676,
          5652,
          5502,
          5542,
          5671,
          5736,
          5821,
          5755,
          5791,
          5878,
          6060,
          6148,
          5990,
          5893,
          5950,
          5929,
          5979,
          5985,
          5903,
          5768,
          5778,
          5884,
          6005,
          5722,
          5590,
          5345,
          5190,
          5537,
          5634,
          5528,
          5649,
          5604,
          5648,
          5819,
          5971,
          5942,
          5881,
          5983,
          5722,
          5806,
          5917,
          5704,
          5933,
          6032,
          5890,
          5833,
          5780,
          5811,
          5672,
          5660,
          5650,
          5643,
          5907,
          6108,
          6186,
          6262,
          6150,
          6004,
          6027,
          6052,
          6023,
          6054,
          5847,
          6134,
          6252,
          6166,
          6326,
          6335,
          6333,
          6276,
          6481,
          6360,
          6222,
          6211,
          5987,
          6161,
          6526,
          6337,
          6128,
          6153,
          6049,
          6207,
          6489,
          6468,
          6397,
          6288,
          6180,
          6347,
          6570,
          6384,
          6326,
          6456,
          6218,
          6413,
          6193,
          6125,
          6362,
          6281,
          6227,
          6420,
          6418,
          5923,
          6064,
          6228,
          5862,
          6050,
          6047,
          6093,
          6163,
          5979,
          5846,
          5961,
          6082,
          6176,
          6375,
          6767,
          6743,
          6738,
          7051,
          6987,
          7455,
          7244,
          7213,
          7250,
          7550,
          7545,
          7497,
          7588,
          7371,
          7283,
          7710,
          7797,
          7769,
          7761,
          7847,
          7786,
          7904,
          7551,
          8098,
          8193,
          8330,
          8477,
          8275,
          8197,
          8396,
          8293,
          8164,
          8270,
          8315,
          8341,
          8517,
          8247,
          8077,
          8030,
          8243,
          8354,
          8751,
          8621,
          8564
         ],
         "yaxis": "y"
        }
       ],
       "layout": {
        "height": 750,
        "legend": {
         "tracegroupgap": 0
        },
        "shapes": [
         {
          "line": {
           "color": "Grey",
           "dash": "dash",
           "width": 2
          },
          "type": "line",
          "x0": "2009-01-01",
          "x1": "2024-01-01",
          "xref": "x",
          "y0": 5190,
          "y1": 5190,
          "yref": "y"
         },
         {
          "line": {
           "color": "Grey",
           "dash": "dash",
           "width": 2
          },
          "type": "line",
          "x0": "2009-01-01",
          "x1": "2024-01-01",
          "xref": "x",
          "y0": 6570,
          "y1": 6570,
          "yref": "y"
         },
         {
          "line": {
           "color": "Red",
           "width": 2
          },
          "type": "circle",
          "x0": "2020-11-01",
          "x1": "2021-03-01",
          "xref": "x",
          "y0": 5746,
          "y1": 5946,
          "yref": "y"
         },
         {
          "line": {
           "color": "Green",
           "width": 2
          },
          "type": "line",
          "x0": "2020-3-07",
          "x1": "2020-03-07",
          "xref": "x",
          "y0": 6570,
          "y1": 5190,
          "yref": "y"
         }
        ],
        "template": {
         "data": {
          "bar": [
           {
            "error_x": {
             "color": "#f2f5fa"
            },
            "error_y": {
             "color": "#f2f5fa"
            },
            "marker": {
             "line": {
              "color": "rgb(17,17,17)",
              "width": 0.5
             },
             "pattern": {
              "fillmode": "overlay",
              "size": 10,
              "solidity": 0.2
             }
            },
            "type": "bar"
           }
          ],
          "barpolar": [
           {
            "marker": {
             "line": {
              "color": "rgb(17,17,17)",
              "width": 0.5
             },
             "pattern": {
              "fillmode": "overlay",
              "size": 10,
              "solidity": 0.2
             }
            },
            "type": "barpolar"
           }
          ],
          "carpet": [
           {
            "aaxis": {
             "endlinecolor": "#A2B1C6",
             "gridcolor": "#506784",
             "linecolor": "#506784",
             "minorgridcolor": "#506784",
             "startlinecolor": "#A2B1C6"
            },
            "baxis": {
             "endlinecolor": "#A2B1C6",
             "gridcolor": "#506784",
             "linecolor": "#506784",
             "minorgridcolor": "#506784",
             "startlinecolor": "#A2B1C6"
            },
            "type": "carpet"
           }
          ],
          "choropleth": [
           {
            "colorbar": {
             "outlinewidth": 0,
             "ticks": ""
            },
            "type": "choropleth"
           }
          ],
          "contour": [
           {
            "colorbar": {
             "outlinewidth": 0,
             "ticks": ""
            },
            "colorscale": [
             [
              0,
              "#0d0887"
             ],
             [
              0.1111111111111111,
              "#46039f"
             ],
             [
              0.2222222222222222,
              "#7201a8"
             ],
             [
              0.3333333333333333,
              "#9c179e"
             ],
             [
              0.4444444444444444,
              "#bd3786"
             ],
             [
              0.5555555555555556,
              "#d8576b"
             ],
             [
              0.6666666666666666,
              "#ed7953"
             ],
             [
              0.7777777777777778,
              "#fb9f3a"
             ],
             [
              0.8888888888888888,
              "#fdca26"
             ],
             [
              1,
              "#f0f921"
             ]
            ],
            "type": "contour"
           }
          ],
          "contourcarpet": [
           {
            "colorbar": {
             "outlinewidth": 0,
             "ticks": ""
            },
            "type": "contourcarpet"
           }
          ],
          "heatmap": [
           {
            "colorbar": {
             "outlinewidth": 0,
             "ticks": ""
            },
            "colorscale": [
             [
              0,
              "#0d0887"
             ],
             [
              0.1111111111111111,
              "#46039f"
             ],
             [
              0.2222222222222222,
              "#7201a8"
             ],
             [
              0.3333333333333333,
              "#9c179e"
             ],
             [
              0.4444444444444444,
              "#bd3786"
             ],
             [
              0.5555555555555556,
              "#d8576b"
             ],
             [
              0.6666666666666666,
              "#ed7953"
             ],
             [
              0.7777777777777778,
              "#fb9f3a"
             ],
             [
              0.8888888888888888,
              "#fdca26"
             ],
             [
              1,
              "#f0f921"
             ]
            ],
            "type": "heatmap"
           }
          ],
          "heatmapgl": [
           {
            "colorbar": {
             "outlinewidth": 0,
             "ticks": ""
            },
            "colorscale": [
             [
              0,
              "#0d0887"
             ],
             [
              0.1111111111111111,
              "#46039f"
             ],
             [
              0.2222222222222222,
              "#7201a8"
             ],
             [
              0.3333333333333333,
              "#9c179e"
             ],
             [
              0.4444444444444444,
              "#bd3786"
             ],
             [
              0.5555555555555556,
              "#d8576b"
             ],
             [
              0.6666666666666666,
              "#ed7953"
             ],
             [
              0.7777777777777778,
              "#fb9f3a"
             ],
             [
              0.8888888888888888,
              "#fdca26"
             ],
             [
              1,
              "#f0f921"
             ]
            ],
            "type": "heatmapgl"
           }
          ],
          "histogram": [
           {
            "marker": {
             "pattern": {
              "fillmode": "overlay",
              "size": 10,
              "solidity": 0.2
             }
            },
            "type": "histogram"
           }
          ],
          "histogram2d": [
           {
            "colorbar": {
             "outlinewidth": 0,
             "ticks": ""
            },
            "colorscale": [
             [
              0,
              "#0d0887"
             ],
             [
              0.1111111111111111,
              "#46039f"
             ],
             [
              0.2222222222222222,
              "#7201a8"
             ],
             [
              0.3333333333333333,
              "#9c179e"
             ],
             [
              0.4444444444444444,
              "#bd3786"
             ],
             [
              0.5555555555555556,
              "#d8576b"
             ],
             [
              0.6666666666666666,
              "#ed7953"
             ],
             [
              0.7777777777777778,
              "#fb9f3a"
             ],
             [
              0.8888888888888888,
              "#fdca26"
             ],
             [
              1,
              "#f0f921"
             ]
            ],
            "type": "histogram2d"
           }
          ],
          "histogram2dcontour": [
           {
            "colorbar": {
             "outlinewidth": 0,
             "ticks": ""
            },
            "colorscale": [
             [
              0,
              "#0d0887"
             ],
             [
              0.1111111111111111,
              "#46039f"
             ],
             [
              0.2222222222222222,
              "#7201a8"
             ],
             [
              0.3333333333333333,
              "#9c179e"
             ],
             [
              0.4444444444444444,
              "#bd3786"
             ],
             [
              0.5555555555555556,
              "#d8576b"
             ],
             [
              0.6666666666666666,
              "#ed7953"
             ],
             [
              0.7777777777777778,
              "#fb9f3a"
             ],
             [
              0.8888888888888888,
              "#fdca26"
             ],
             [
              1,
              "#f0f921"
             ]
            ],
            "type": "histogram2dcontour"
           }
          ],
          "mesh3d": [
           {
            "colorbar": {
             "outlinewidth": 0,
             "ticks": ""
            },
            "type": "mesh3d"
           }
          ],
          "parcoords": [
           {
            "line": {
             "colorbar": {
              "outlinewidth": 0,
              "ticks": ""
             }
            },
            "type": "parcoords"
           }
          ],
          "pie": [
           {
            "automargin": true,
            "type": "pie"
           }
          ],
          "scatter": [
           {
            "marker": {
             "line": {
              "color": "#283442"
             }
            },
            "type": "scatter"
           }
          ],
          "scatter3d": [
           {
            "line": {
             "colorbar": {
              "outlinewidth": 0,
              "ticks": ""
             }
            },
            "marker": {
             "colorbar": {
              "outlinewidth": 0,
              "ticks": ""
             }
            },
            "type": "scatter3d"
           }
          ],
          "scattercarpet": [
           {
            "marker": {
             "colorbar": {
              "outlinewidth": 0,
              "ticks": ""
             }
            },
            "type": "scattercarpet"
           }
          ],
          "scattergeo": [
           {
            "marker": {
             "colorbar": {
              "outlinewidth": 0,
              "ticks": ""
             }
            },
            "type": "scattergeo"
           }
          ],
          "scattergl": [
           {
            "marker": {
             "line": {
              "color": "#283442"
             }
            },
            "type": "scattergl"
           }
          ],
          "scattermapbox": [
           {
            "marker": {
             "colorbar": {
              "outlinewidth": 0,
              "ticks": ""
             }
            },
            "type": "scattermapbox"
           }
          ],
          "scatterpolar": [
           {
            "marker": {
             "colorbar": {
              "outlinewidth": 0,
              "ticks": ""
             }
            },
            "type": "scatterpolar"
           }
          ],
          "scatterpolargl": [
           {
            "marker": {
             "colorbar": {
              "outlinewidth": 0,
              "ticks": ""
             }
            },
            "type": "scatterpolargl"
           }
          ],
          "scatterternary": [
           {
            "marker": {
             "colorbar": {
              "outlinewidth": 0,
              "ticks": ""
             }
            },
            "type": "scatterternary"
           }
          ],
          "surface": [
           {
            "colorbar": {
             "outlinewidth": 0,
             "ticks": ""
            },
            "colorscale": [
             [
              0,
              "#0d0887"
             ],
             [
              0.1111111111111111,
              "#46039f"
             ],
             [
              0.2222222222222222,
              "#7201a8"
             ],
             [
              0.3333333333333333,
              "#9c179e"
             ],
             [
              0.4444444444444444,
              "#bd3786"
             ],
             [
              0.5555555555555556,
              "#d8576b"
             ],
             [
              0.6666666666666666,
              "#ed7953"
             ],
             [
              0.7777777777777778,
              "#fb9f3a"
             ],
             [
              0.8888888888888888,
              "#fdca26"
             ],
             [
              1,
              "#f0f921"
             ]
            ],
            "type": "surface"
           }
          ],
          "table": [
           {
            "cells": {
             "fill": {
              "color": "#506784"
             },
             "line": {
              "color": "rgb(17,17,17)"
             }
            },
            "header": {
             "fill": {
              "color": "#2a3f5f"
             },
             "line": {
              "color": "rgb(17,17,17)"
             }
            },
            "type": "table"
           }
          ]
         },
         "layout": {
          "annotationdefaults": {
           "arrowcolor": "#f2f5fa",
           "arrowhead": 0,
           "arrowwidth": 1
          },
          "autotypenumbers": "strict",
          "coloraxis": {
           "colorbar": {
            "outlinewidth": 0,
            "ticks": ""
           }
          },
          "colorscale": {
           "diverging": [
            [
             0,
             "#8e0152"
            ],
            [
             0.1,
             "#c51b7d"
            ],
            [
             0.2,
             "#de77ae"
            ],
            [
             0.3,
             "#f1b6da"
            ],
            [
             0.4,
             "#fde0ef"
            ],
            [
             0.5,
             "#f7f7f7"
            ],
            [
             0.6,
             "#e6f5d0"
            ],
            [
             0.7,
             "#b8e186"
            ],
            [
             0.8,
             "#7fbc41"
            ],
            [
             0.9,
             "#4d9221"
            ],
            [
             1,
             "#276419"
            ]
           ],
           "sequential": [
            [
             0,
             "#0d0887"
            ],
            [
             0.1111111111111111,
             "#46039f"
            ],
            [
             0.2222222222222222,
             "#7201a8"
            ],
            [
             0.3333333333333333,
             "#9c179e"
            ],
            [
             0.4444444444444444,
             "#bd3786"
            ],
            [
             0.5555555555555556,
             "#d8576b"
            ],
            [
             0.6666666666666666,
             "#ed7953"
            ],
            [
             0.7777777777777778,
             "#fb9f3a"
            ],
            [
             0.8888888888888888,
             "#fdca26"
            ],
            [
             1,
             "#f0f921"
            ]
           ],
           "sequentialminus": [
            [
             0,
             "#0d0887"
            ],
            [
             0.1111111111111111,
             "#46039f"
            ],
            [
             0.2222222222222222,
             "#7201a8"
            ],
            [
             0.3333333333333333,
             "#9c179e"
            ],
            [
             0.4444444444444444,
             "#bd3786"
            ],
            [
             0.5555555555555556,
             "#d8576b"
            ],
            [
             0.6666666666666666,
             "#ed7953"
            ],
            [
             0.7777777777777778,
             "#fb9f3a"
            ],
            [
             0.8888888888888888,
             "#fdca26"
            ],
            [
             1,
             "#f0f921"
            ]
           ]
          },
          "colorway": [
           "#636efa",
           "#EF553B",
           "#00cc96",
           "#ab63fa",
           "#FFA15A",
           "#19d3f3",
           "#FF6692",
           "#B6E880",
           "#FF97FF",
           "#FECB52"
          ],
          "font": {
           "color": "#f2f5fa"
          },
          "geo": {
           "bgcolor": "rgb(17,17,17)",
           "lakecolor": "rgb(17,17,17)",
           "landcolor": "rgb(17,17,17)",
           "showlakes": true,
           "showland": true,
           "subunitcolor": "#506784"
          },
          "hoverlabel": {
           "align": "left"
          },
          "hovermode": "closest",
          "mapbox": {
           "style": "dark"
          },
          "paper_bgcolor": "rgb(17,17,17)",
          "plot_bgcolor": "rgb(17,17,17)",
          "polar": {
           "angularaxis": {
            "gridcolor": "#506784",
            "linecolor": "#506784",
            "ticks": ""
           },
           "bgcolor": "rgb(17,17,17)",
           "radialaxis": {
            "gridcolor": "#506784",
            "linecolor": "#506784",
            "ticks": ""
           }
          },
          "scene": {
           "xaxis": {
            "backgroundcolor": "rgb(17,17,17)",
            "gridcolor": "#506784",
            "gridwidth": 2,
            "linecolor": "#506784",
            "showbackground": true,
            "ticks": "",
            "zerolinecolor": "#C8D4E3"
           },
           "yaxis": {
            "backgroundcolor": "rgb(17,17,17)",
            "gridcolor": "#506784",
            "gridwidth": 2,
            "linecolor": "#506784",
            "showbackground": true,
            "ticks": "",
            "zerolinecolor": "#C8D4E3"
           },
           "zaxis": {
            "backgroundcolor": "rgb(17,17,17)",
            "gridcolor": "#506784",
            "gridwidth": 2,
            "linecolor": "#506784",
            "showbackground": true,
            "ticks": "",
            "zerolinecolor": "#C8D4E3"
           }
          },
          "shapedefaults": {
           "line": {
            "color": "#f2f5fa"
           }
          },
          "sliderdefaults": {
           "bgcolor": "#C8D4E3",
           "bordercolor": "rgb(17,17,17)",
           "borderwidth": 1,
           "tickwidth": 0
          },
          "ternary": {
           "aaxis": {
            "gridcolor": "#506784",
            "linecolor": "#506784",
            "ticks": ""
           },
           "baxis": {
            "gridcolor": "#506784",
            "linecolor": "#506784",
            "ticks": ""
           },
           "bgcolor": "rgb(17,17,17)",
           "caxis": {
            "gridcolor": "#506784",
            "linecolor": "#506784",
            "ticks": ""
           }
          },
          "title": {
           "x": 0.05
          },
          "updatemenudefaults": {
           "bgcolor": "#506784",
           "borderwidth": 0
          },
          "xaxis": {
           "automargin": true,
           "gridcolor": "#283442",
           "linecolor": "#506784",
           "ticks": "",
           "title": {
            "standoff": 15
           },
           "zerolinecolor": "#283442",
           "zerolinewidth": 2
          },
          "yaxis": {
           "automargin": true,
           "gridcolor": "#283442",
           "linecolor": "#506784",
           "ticks": "",
           "title": {
            "standoff": 15
           },
           "zerolinecolor": "#283442",
           "zerolinewidth": 2
          }
         }
        },
        "title": {
         "text": "Civilian Labor Force - With a Disability, 16 Years and over"
        },
        "xaxis": {
         "anchor": "y",
         "domain": [
          0,
          1
         ],
         "title": {
          "text": "date"
         }
        },
        "yaxis": {
         "anchor": "x",
         "domain": [
          0,
          1
         ],
         "title": {
          "text": "count"
         }
        }
       }
      }
     },
     "metadata": {},
     "output_type": "display_data"
    }
   ],
   "source": [
    "title = 'Civilian Labor Force - With a Disability, 16 Years and over'\n",
    "\n",
    "fig = px.line(\n",
    "    df,\n",
    "    x='date',\n",
    "    y='count',\n",
    "    height=750 ,\n",
    "    title=title\n",
    "    )\n",
    "fig.update_layout(template=\"plotly_dark\")\n",
    "\n",
    "temp = df[df['date'] < '2020-01-01'].copy()\n",
    "min_temp = temp['count'].min()\n",
    "max_temp = temp['count'].max()\n",
    "\n",
    "# adding Min Line\n",
    "fig.add_shape(\n",
    "    type=\"line\",\n",
    "    x0='2009-01-01', \n",
    "    x1='2024-01-01', \n",
    "    y0=min_temp,\n",
    "    y1=min_temp, \n",
    "    line=dict(color=\"Grey\", width=2, dash=\"dash\"),  # Line style\n",
    "    xref=\"x\", yref=\"y\"          # Reference axes\n",
    ")\n",
    "\n",
    "# adding Max Line\n",
    "fig.add_shape(\n",
    "    type=\"line\",\n",
    "    x0='2009-01-01', \n",
    "    x1='2024-01-01', \n",
    "    y0=max_temp,\n",
    "    y1=max_temp, \n",
    "    line=dict(color=\"Grey\", width=2, dash=\"dash\"),  # Line style\n",
    "    xref=\"x\", yref=\"y\"          # Reference axes\n",
    ")\n",
    "\n",
    "fig.add_shape(\n",
    "    type=\"circle\",\n",
    "    x0='2020-11-01', x1='2021-03-01',  # Keep x values the same for a point\n",
    "    y0=5846-100, y1=5846+100,  # Define the vertical range\n",
    "    line=dict(color=\"Red\", width=2),  # Circle border style\n",
    "    xref=\"x\", yref=\"y\"\n",
    ")\n",
    "\n",
    "fig.add_shape(\n",
    "    type=\"line\",\n",
    "    x0='2020-3-07', x1='2020-03-07',  # Keep x values the same for a point\n",
    "    y0=max_temp, y1=min_temp,  # Define the vertical range\n",
    "    line=dict(color=\"Green\", width=2),  # Circle border style\n",
    "    xref=\"x\", yref=\"y\"\n",
    ")\n",
    "\n",
    "display(MD(f'### {title}'))\n",
    "display(HTML('<h4><span style=\"color: grey;\"><b>Grey Lines</b></span> are the max and min values from 2008-06-01 and 2020-01-01</h4>'))\n",
    "display(HTML('<h4><span style=\"color: green;\"><b>Green Line</b></span> represents the first time COVID-19 was detected in St. Louis</h4>'))\n",
    "display(HTML('<p style=\"text-indent: 40px;\"><a href=\"https://www.stlpr.org/health-science-environment/2020-03-08/first-missouri-coronavirus-case-is-in-st-louis-county\">First Missouri Coronavirus Case Is In St. Louis County</p>'))\n",
    "display(HTML('<h4><span style=\"color: red;\"><b>Red Circle</b></span> marks an event that caused disabilities to increase</h4>'))\n",
    "fig.show()"
   ]
  },
  {
   "cell_type": "markdown",
   "metadata": {},
   "source": [
    "## Hypothesis\n",
    "* There should be a causing event that occured in St Louis on January 2021 ?\n",
    "\n",
    "### News (ksdk)\n",
    "- [City of St. Louis to get its first shipment of COVID-19 vaccines Tuesday](https://www.ksdk.com/article/news/health/coronavirus/vaccine/st-louis-city-first-batch-covid-vaccines/63-8617b1d7-9367-4cd5-97be-a919b09247de)\n",
    "    - Published: 4:11 PM CST January 25, 2021\n",
    "    - Updated: 5:26 PM CST January 26, 2021\n",
    "\n",
    "\n",
    "### ChatGPT\n",
    "* <img src='./docs/chrome_wvyzmYInHN.png' alt=\".\" height=\"500px\"/>  \n",
    "* <img src='./chrome_wvyzmYInHN.png' alt=\".\" style=\"height: 500px; width: auto;\"/>  \n"
   ]
  },
  {
   "cell_type": "markdown",
   "metadata": {},
   "source": [
    "## Google Trends\n",
    "\n",
    "In Google Trends there was a small increase in the search terms, but it really ramped up after.\n",
    "\n",
    "**myocarditis**: a known *rare side effect of the mRNA vaccines.  \n",
    "**Vaccine Pain**: a common side effect of the mRNA vaccine.  \n",
    "**VAERS**: Vaccine Adverse Event Reporting System  \n",
    "\n",
    "<p>💉: when the vaccine was avaliable</p>\n",
    "<p>🦠: when the covid-19 virus was first detected in St. Louis Mo</p>\n",
    "\n",
    "* <img src='./docs/chrome_OpOR1WUxJr.png' alt=\".\" height=\"500px\"/>  \n",
    "* <img src='./chrome_OpOR1WUxJr.png' alt=\".\" style=\"height: 500px; width: auto;\"/>  "
   ]
  },
  {
   "cell_type": "markdown",
   "metadata": {},
   "source": [
    "## Possible - Conclusion\n",
    "* Something was wrong with the batch of vaccines the St Luois got\n",
    "* Something was wrong with all the Vaccines\n",
    "* People are just claiming disablity to get out of work\n",
    "    * but if they wanted to get out of work, why not just use the virus as an excuse ?\n",
    "* This was a delayed reaction from the covid virus, or a new variant of the covid virus \n",
    "* The Data is bad \n"
   ]
  },
  {
   "cell_type": "markdown",
   "metadata": {},
   "source": [
    "## if you want to keep digging\n",
    "\n",
    "* [Excess deaths, the silence - Dr John Campbell and Dr Vibeke Manniche (Youtube)](https://www.youtube.com/watch?v=nD--4tLmb3w)\n",
    "    * Denmark, Finland, Norway, UK\n",
    "    * <img src='./docs/chrome_vTKng4rNsY.png' alt=\".\" height=\"500px\"/>  \n",
    "    * <img src='./chrome_vTKng4rNsY.png' alt=\".\" style=\"height: 500px; width: auto;\"/>  \n",
    "\n",
    "## more videos with Dr John Campbell and Dr Vibeke Manniche\n",
    "* [Batch dependent safety - Dr John Campbell (Youtube)](https://www.youtube.com/watch?v=nD--4tLmb3w)\n",
    "* [Viral vaccine paper, Dr Vibeke Manniche - Dr John Campbell (Rumble)](https://rumble.com/v2yknn6-dr.-john-campbell-viral-vaccine-paper-dr-vibeke-manniche.html)\n",
    "* [Batch-dependent safety of the BNT162b2 mRNA COVID-19 vaccine - By Dr Vibeke Manniche (Youtube)](https://onlinelibrary.wiley.com/doi/10.1111/eci.13998)\n",
    "\n"
   ]
  }
 ],
 "metadata": {
  "kernelspec": {
   "display_name": "Python 3",
   "language": "python",
   "name": "python3"
  },
  "language_info": {
   "codemirror_mode": {
    "name": "ipython",
    "version": 3
   },
   "file_extension": ".py",
   "mimetype": "text/x-python",
   "name": "python",
   "nbconvert_exporter": "python",
   "pygments_lexer": "ipython3",
   "version": "3.12.5"
  }
 },
 "nbformat": 4,
 "nbformat_minor": 2
}
